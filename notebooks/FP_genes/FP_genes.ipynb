{
 "cells": [
  {
   "cell_type": "code",
   "execution_count": 2,
   "metadata": {},
   "outputs": [],
   "source": [
    "import pandas as pd\n",
    "import numpy as np\n",
    "import plotly.graph_objects as go\n",
    "import plotly.express as px\n",
    "import re"
   ]
  },
  {
   "cell_type": "code",
   "execution_count": 3,
   "metadata": {},
   "outputs": [],
   "source": [
    "# inputs\n",
    "samples=snakemake.params.samples\n",
    "tool=snakemake.params.title"
   ]
  },
  {
   "cell_type": "code",
   "execution_count": 4,
   "metadata": {},
   "outputs": [],
   "source": [
    "# inputs\n",
    "sample_name_regex = re.compile(\"(.*)\\.\\d+x\\..*\")\n",
    "pandora_gene_presence_df = pd.read_csv(snakemake.input.pandora_multisample_matrix, sep=\"\\t\")\n",
    "pandora_gene_presence_df = pandora_gene_presence_df.rename(columns={\"Unnamed: 0\": \"gene_name\"})\n",
    "updated_sample_columns = [sample_name_regex.match(col).group(1) if col != \"gene_name\" else col for col in pandora_gene_presence_df.columns]\n",
    "pandora_gene_presence_df.columns = updated_sample_columns\n",
    "pandora_gene_presence_df"
   ]
  },
  {
   "cell_type": "code",
   "execution_count": 5,
   "metadata": {},
   "outputs": [],
   "source": [
    "# inputs\n",
    "bowtie2_gene_presence_df = pd.read_csv(snakemake.input.gene_presence_matrix_based_on_bowtie2, sep=\"\\t\")\n",
    "bowtie2_gene_presence_df"
   ]
  },
  {
   "cell_type": "code",
   "execution_count": 6,
   "metadata": {},
   "outputs": [],
   "source": [
    "# inputs\n",
    "gene_length_df = pd.read_csv(snakemake.input.gene_length_matrix, sep=\"\\t\")\n",
    "gene_length_df"
   ]
  },
  {
   "cell_type": "code",
   "execution_count": 7,
   "metadata": {},
   "outputs": [],
   "source": [
    "merged_dfs = pandora_gene_presence_df.merge(bowtie2_gene_presence_df,\n",
    "                                            on=\"gene_name\", how=\"outer\", suffixes=(\"_pandora\", \"_bowtie\"))\n",
    "merged_dfs"
   ]
  },
  {
   "cell_type": "code",
   "execution_count": 8,
   "metadata": {},
   "outputs": [],
   "source": [
    "merged_dfs = merged_dfs.fillna(0)\n",
    "for column in merged_dfs.columns:\n",
    "    if column != \"gene_name\":\n",
    "        merged_dfs[column] = merged_dfs[column].astype(np.int)\n",
    "merged_dfs"
   ]
  },
  {
   "cell_type": "code",
   "execution_count": 9,
   "metadata": {},
   "outputs": [],
   "source": [
    "def get_classification(row, sample):\n",
    "    bowtie_classification = float(row[f\"{sample}_bowtie\"])\n",
    "    pandora_classification = float(row[f\"{sample}_pandora\"])\n",
    "    \n",
    "    TP = bowtie_classification == 1 and pandora_classification == 1\n",
    "    FP = bowtie_classification == 0 and pandora_classification == 1\n",
    "    FN = bowtie_classification == 1 and pandora_classification == 0\n",
    "    TN = bowtie_classification == 0 and pandora_classification == 0\n",
    "    \n",
    "    if TP: return \"TP\"\n",
    "    if FP: return \"FP\"\n",
    "    if FN: return \"FN\"\n",
    "    if TN: return \"TN\"\n",
    "    \n",
    "for sample in samples:\n",
    "    merged_dfs[f\"{sample}_classification\"] = merged_dfs.apply(get_classification, axis=1, sample=sample)\n",
    "merged_dfs"
   ]
  },
  {
   "cell_type": "code",
   "execution_count": 10,
   "metadata": {},
   "outputs": [],
   "source": [
    "classification_cols = [col for col in merged_dfs.columns if \"classification\" in col or col==\"gene_name\"]\n",
    "classification_df = merged_dfs[classification_cols]\n",
    "classification_df"
   ]
  },
  {
   "cell_type": "code",
   "execution_count": 11,
   "metadata": {},
   "outputs": [],
   "source": [
    "def get_nb_FPs(row):    \n",
    "    return len([elem for elem in row if elem==\"FP\"])\n",
    "\n",
    "gene_and_nb_of_FPs = pd.DataFrame()\n",
    "gene_and_nb_of_FPs[\"gene_name\"] = classification_df[\"gene_name\"]\n",
    "gene_and_nb_of_FPs[\"nb_samples_where_this_gene_is_FP\"] = classification_df.apply(get_nb_FPs, axis=\"columns\")\n",
    "gene_and_nb_of_FPs"
   ]
  },
  {
   "cell_type": "code",
   "execution_count": 12,
   "metadata": {},
   "outputs": [],
   "source": [
    "gene_and_nb_of_FPs_counted = gene_and_nb_of_FPs.groupby(by=\"nb_samples_where_this_gene_is_FP\").count().rename(columns={\"gene_name\": \"gene_count\"})\n",
    "gene_and_nb_of_FPs_counted.to_csv(snakemake.output.gene_and_nb_of_FPs_counted_data)\n",
    "gene_and_nb_of_FPs_counted"
   ]
  },
  {
   "cell_type": "code",
   "execution_count": 13,
   "metadata": {},
   "outputs": [],
   "source": [
    "def get_series_summarizing_gene_classification(normalize):\n",
    "    all_samples = pd.Series()\n",
    "    for col in classification_df.columns:\n",
    "        if col.endswith(\"_classification\"):\n",
    "            all_samples = all_samples.append(classification_df[col])\n",
    "    all_samples.name=\"all_samples\"\n",
    "    return pd.DataFrame([all_samples.value_counts(normalize=normalize)])\n",
    "\n",
    "gene_classification_summary = get_series_summarizing_gene_classification(normalize=False)\n",
    "gene_classification_summary_normalized = get_series_summarizing_gene_classification(normalize=True)\n",
    "gene_classification_summary_normalized.xs(\"all_samples\")\n",
    "gene_classification_summary_normalized.to_csv(snakemake.output.gene_classification_plot_data)\n",
    "gene_classification_summary_normalized"
   ]
  },
  {
   "cell_type": "code",
   "execution_count": 16,
   "metadata": {},
   "outputs": [],
   "source": [
    "def get_plot_gene_classification_binned_by_sample(data, title, xaxis_title, yaxis_title):\n",
    "    fig = go.Figure(data=[\n",
    "            go.Bar(name=classification, x=data.index, y=data[classification])\n",
    "            for classification in data.columns])\n",
    "\n",
    "    fig.update_layout(title=title, xaxis_title=xaxis_title, yaxis_title=yaxis_title, barmode='stack')\n",
    "    return fig\n"
   ]
  },
  {
   "cell_type": "code",
   "execution_count": 18,
   "metadata": {},
   "outputs": [],
   "source": [
    "plot_gene_classification_all_samples = \\\n",
    "    get_plot_gene_classification_binned_by_sample(gene_classification_summary, \\\n",
    "    title=f\"Gene classification all_samples - {tool}\", \\\n",
    "    xaxis_title=\"All samples\", \\\n",
    "    yaxis_title=\"Count\")\n",
    "plot_gene_classification_all_samples.write_image(snakemake.output.gene_classification_plot)\n",
    "plot_gene_classification_all_samples"
   ]
  },
  {
   "cell_type": "code",
   "execution_count": 19,
   "metadata": {},
   "outputs": [],
   "source": [
    "def get_gene_classification_by_sample(normalize):\n",
    "    classification_df_summary = pd.DataFrame()\n",
    "    count_series = []\n",
    "    for col in classification_df.columns:\n",
    "        if col.endswith(\"_classification\"):\n",
    "            count_series.append(classification_df[col].value_counts(normalize=normalize))\n",
    "    \n",
    "    return pd.DataFrame(count_series)\n",
    "\n",
    "gene_classification_by_sample = get_gene_classification_by_sample(normalize=False)\n",
    "gene_classification_by_sample_normalized = get_gene_classification_by_sample(normalize=True)\n",
    "\n",
    "gene_classification_by_sample.to_csv(snakemake.output.gene_classification_by_sample_plot_data)\n",
    "gene_classification_by_sample"
   ]
  },
  {
   "cell_type": "code",
   "execution_count": 20,
   "metadata": {},
   "outputs": [],
   "source": [
    "plot_gene_classification_binned_by_sample = \\\n",
    "    get_plot_gene_classification_binned_by_sample(gene_classification_by_sample, \\\n",
    "    title=f\"Gene classification binned by sample - {tool}\", \\\n",
    "    xaxis_title=\"Sample\", \\\n",
    "    yaxis_title=\"Count\")\n",
    "plot_gene_classification_binned_by_sample.write_image(snakemake.output.gene_classification_by_sample_plot)\n",
    "plot_gene_classification_binned_by_sample"
   ]
  },
  {
   "cell_type": "code",
   "execution_count": 21,
   "metadata": {},
   "outputs": [],
   "source": [
    "classification_df_with_gene_length = classification_df.merge(gene_length_df, on=\"gene_name\")\n",
    "classification_df_with_gene_length"
   ]
  },
  {
   "cell_type": "code",
   "execution_count": 22,
   "metadata": {},
   "outputs": [],
   "source": [
    "def get_gene_length_category(value):\n",
    "    if value >= 4000:\n",
    "        return 4100\n",
    "    else:\n",
    "        return (int(value/100)+1)*100\n",
    "\n",
    "classification_df_with_gene_length[\"gene_length_category\"] = \\\n",
    "classification_df_with_gene_length[\"gene_length\"].apply(get_gene_length_category)\n",
    "classification_df_with_gene_length.to_csv(snakemake.output.gene_classification_by_gene_length_plot_data, index=False)\n",
    "classification_df_with_gene_length"
   ]
  },
  {
   "cell_type": "code",
   "execution_count": 23,
   "metadata": {},
   "outputs": [],
   "source": [
    "gene_names = []\n",
    "classifications = []\n",
    "gene_length_categories = []\n",
    "for _, row in classification_df_with_gene_length.iterrows():\n",
    "    for col in classification_df_with_gene_length.columns:\n",
    "        if col.endswith(\"_classification\"):\n",
    "            gene_names.append(row[\"gene_name\"])\n",
    "            classifications.append(row[col])\n",
    "            gene_length_categories.append(row[\"gene_length_category\"])\n",
    "            \n",
    "classification_all = pd.DataFrame(data={\"gene_name\": gene_names, \"classification\": classifications, \"gene_length_category\": gene_length_categories})\n",
    "classification_all"
   ]
  },
  {
   "cell_type": "code",
   "execution_count": 31,
   "metadata": {},
   "outputs": [],
   "source": [
    "classification_all_grouped_and_counted = classification_all.groupby(by=[\"classification\", \"gene_length_category\"]).count()\n",
    "classification_all_grouped_and_counted = classification_all_grouped_and_counted.unstack().fillna(0)\n",
    "classification_all_grouped_and_counted.to_csv(snakemake.output.gene_classification_by_gene_length_plot_data)\n",
    "classification_all_grouped_and_counted"
   ]
  },
  {
   "cell_type": "code",
   "execution_count": 32,
   "metadata": {},
   "outputs": [],
   "source": [
    "import plotly.graph_objects as go\n",
    "\n",
    "def get_plot_gene_classification_binned_by_length(data, title, xaxis_title, yaxis_title):\n",
    "    gene_length_categories = data.columns.get_level_values(1)\n",
    "\n",
    "    fig = go.Figure(data=[\n",
    "            go.Bar(name=classification, x=gene_length_categories, y=data.xs(classification)) \\\n",
    "                   for classification in data.index],\n",
    "            )\n",
    "\n",
    "    fig.update_layout(title=title, xaxis_title=xaxis_title, yaxis_title=yaxis_title, barmode='stack')\n",
    "    return fig\n",
    "\n",
    "plot_gene_classification_binned_by_length = \\\n",
    "    get_plot_gene_classification_binned_by_length(classification_all_grouped_and_counted, \\\n",
    "    title=f\"Gene classification binned by gene length - {tool}\", \\\n",
    "    xaxis_title=\"Gene length\", \\\n",
    "    yaxis_title=\"Count\")\n",
    "\n",
    "\n",
    "plot_gene_classification_binned_by_length.write_image(snakemake.output.gene_classification_by_gene_length_plot)\n",
    "plot_gene_classification_binned_by_length"
   ]
  },
  {
   "cell_type": "code",
   "execution_count": 33,
   "metadata": {},
   "outputs": [],
   "source": [
    "def normalize_column(column):\n",
    "    total = sum(column)\n",
    "    column = column.apply(lambda value: value/total)\n",
    "    return column\n",
    "    \n",
    "classification_all_grouped_and_counted_normalized = classification_all_grouped_and_counted.apply(normalize_column)\n",
    "classification_all_grouped_and_counted_normalized.to_csv(snakemake.output.gene_classification_by_gene_length_normalised_plot_data)\n",
    "classification_all_grouped_and_counted_normalized"
   ]
  },
  {
   "cell_type": "code",
   "execution_count": 34,
   "metadata": {},
   "outputs": [],
   "source": [
    "plot_gene_classification_binned_by_length_normalized = \\\n",
    "    get_plot_gene_classification_binned_by_length(classification_all_grouped_and_counted_normalized, \\\n",
    "    title=f\"Gene classification binned by gene length - Normalised - {tool}\", \\\n",
    "    xaxis_title=\"Gene length\", \\\n",
    "    yaxis_title=\"Proportion\")\n",
    "\n",
    "plot_gene_classification_binned_by_length_normalized.write_image(snakemake.output.gene_classification_by_gene_length_normalised_plot)\n",
    "plot_gene_classification_binned_by_length_normalized"
   ]
  }
 ],
 "metadata": {
  "kernelspec": {
   "display_name": "Python 3",
   "language": "python",
   "name": "python3"
  },
  "language_info": {
   "codemirror_mode": {
    "name": "ipython",
    "version": 3
   },
   "file_extension": ".py",
   "mimetype": "text/x-python",
   "name": "python",
   "nbconvert_exporter": "python",
   "pygments_lexer": "ipython3",
   "version": "3.7.3"
  }
 },
 "nbformat": 4,
 "nbformat_minor": 4
}
